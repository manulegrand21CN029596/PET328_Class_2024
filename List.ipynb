{
 "cells": [
  {
   "cell_type": "markdown",
   "id": "542562f8",
   "metadata": {},
   "source": [
    "... to the only wise God!!!"
   ]
  },
  {
   "cell_type": "markdown",
   "id": "1e3f2dbc",
   "metadata": {},
   "source": [
    "## Lists"
   ]
  },
  {
   "cell_type": "code",
   "execution_count": 27,
   "id": "a524f7cd",
   "metadata": {},
   "outputs": [],
   "source": [
    "poro = [0.49, 0.45, 0.26, 0.12, 0.37, 0.32, 0.15, 0.42, 0.11, 0.26]"
   ]
  },
  {
   "cell_type": "code",
   "execution_count": 2,
   "id": "ebbf6246",
   "metadata": {},
   "outputs": [],
   "source": [
    "reser_prop = ['poro', 'perm', 'water_sat', 'oil_sat', 'acreage', 'pay_thick']"
   ]
  },
  {
   "cell_type": "code",
   "execution_count": 3,
   "id": "c2b55c33",
   "metadata": {},
   "outputs": [],
   "source": [
    "mantra = ['TTOWG']"
   ]
  },
  {
   "cell_type": "code",
   "execution_count": 4,
   "id": "cd332c1d",
   "metadata": {},
   "outputs": [],
   "source": [
    "empto = []"
   ]
  },
  {
   "cell_type": "code",
   "execution_count": 5,
   "id": "377ffda0",
   "metadata": {},
   "outputs": [
    {
     "data": {
      "text/plain": [
       "['PET328']"
      ]
     },
     "execution_count": 5,
     "metadata": {},
     "output_type": "execute_result"
    }
   ],
   "source": [
    "['PET328']"
   ]
  },
  {
   "cell_type": "code",
   "execution_count": 6,
   "id": "7f522724",
   "metadata": {},
   "outputs": [],
   "source": [
    "perm = list((120, 40)) "
   ]
  },
  {
   "cell_type": "code",
   "execution_count": 18,
   "id": "be72274d",
   "metadata": {},
   "outputs": [
    {
     "data": {
      "text/plain": [
       "[120, 40]"
      ]
     },
     "execution_count": 18,
     "metadata": {},
     "output_type": "execute_result"
    }
   ],
   "source": [
    "perm"
   ]
  },
  {
   "cell_type": "code",
   "execution_count": 7,
   "id": "771ae7b1",
   "metadata": {},
   "outputs": [],
   "source": [
    "singler = list((7,))"
   ]
  },
  {
   "cell_type": "code",
   "execution_count": 21,
   "id": "1e3b41d4",
   "metadata": {},
   "outputs": [
    {
     "data": {
      "text/plain": [
       "[7]"
      ]
     },
     "execution_count": 21,
     "metadata": {},
     "output_type": "execute_result"
    }
   ],
   "source": [
    "singler"
   ]
  },
  {
   "cell_type": "code",
   "execution_count": 22,
   "id": "590e9cfe",
   "metadata": {},
   "outputs": [
    {
     "data": {
      "text/plain": [
       "0.12"
      ]
     },
     "execution_count": 22,
     "metadata": {},
     "output_type": "execute_result"
    }
   ],
   "source": [
    "poro[3]"
   ]
  },
  {
   "cell_type": "code",
   "execution_count": 23,
   "id": "1787ed15",
   "metadata": {},
   "outputs": [
    {
     "data": {
      "text/plain": [
       "0.15"
      ]
     },
     "execution_count": 23,
     "metadata": {},
     "output_type": "execute_result"
    }
   ],
   "source": [
    "poro[6]"
   ]
  },
  {
   "cell_type": "code",
   "execution_count": 24,
   "id": "b0b60124",
   "metadata": {},
   "outputs": [
    {
     "data": {
      "text/plain": [
       "0.26"
      ]
     },
     "execution_count": 24,
     "metadata": {},
     "output_type": "execute_result"
    }
   ],
   "source": [
    "poro[-1]"
   ]
  },
  {
   "cell_type": "code",
   "execution_count": 25,
   "id": "19e0fdff",
   "metadata": {},
   "outputs": [
    {
     "data": {
      "text/plain": [
       "0.42"
      ]
     },
     "execution_count": 25,
     "metadata": {},
     "output_type": "execute_result"
    }
   ],
   "source": [
    "poro[-3]"
   ]
  },
  {
   "cell_type": "code",
   "execution_count": 28,
   "id": "b6375a4b",
   "metadata": {},
   "outputs": [],
   "source": [
    "poro[5] = 0.23"
   ]
  },
  {
   "cell_type": "code",
   "execution_count": 9,
   "id": "be2512e1",
   "metadata": {},
   "outputs": [
    {
     "data": {
      "text/plain": [
       "[0.49, 0.45, 0.26, 0.12, 0.37, 0.23, 0.15, 0.42, 0.11, 0.26]"
      ]
     },
     "execution_count": 9,
     "metadata": {},
     "output_type": "execute_result"
    }
   ],
   "source": [
    "poro"
   ]
  },
  {
   "cell_type": "code",
   "execution_count": 10,
   "id": "3498c0e7",
   "metadata": {},
   "outputs": [
    {
     "data": {
      "text/plain": [
       "[0.26, 0.12, 0.37, 0.23]"
      ]
     },
     "execution_count": 10,
     "metadata": {},
     "output_type": "execute_result"
    }
   ],
   "source": [
    "poro[2:6]"
   ]
  },
  {
   "cell_type": "markdown",
   "id": "c94fee1e",
   "metadata": {},
   "source": [
    "### Indexing Lists: accessing elements of lists"
   ]
  },
  {
   "cell_type": "markdown",
   "id": "e9a5cab5",
   "metadata": {},
   "source": [
    "If the left index is not specified, then the slice is taken from the beginning of the list."
   ]
  },
  {
   "cell_type": "code",
   "execution_count": 4,
   "id": "750525d5",
   "metadata": {},
   "outputs": [
    {
     "data": {
      "text/plain": [
       "[0.49, 0.45, 0.26, 0.12, 0.37, 0.32, 0.15, 0.42, 0.11, 0.26]"
      ]
     },
     "execution_count": 4,
     "metadata": {},
     "output_type": "execute_result"
    }
   ],
   "source": [
    "poro"
   ]
  },
  {
   "cell_type": "code",
   "execution_count": 11,
   "id": "619e844d",
   "metadata": {},
   "outputs": [
    {
     "data": {
      "text/plain": [
       "[0.49, 0.45, 0.26, 0.12]"
      ]
     },
     "execution_count": 11,
     "metadata": {},
     "output_type": "execute_result"
    }
   ],
   "source": [
    "west_poro = poro[:4]      # equivalent to poro[0:4 \n",
    "west_poro"
   ]
  },
  {
   "cell_type": "markdown",
   "id": "3ea90d85",
   "metadata": {},
   "source": [
    "If the right index is not specified, then the slice is taken to the end of the list."
   ]
  },
  {
   "cell_type": "code",
   "execution_count": 12,
   "id": "e3da2536",
   "metadata": {},
   "outputs": [
    {
     "data": {
      "text/plain": [
       "[0.37, 0.23, 0.15, 0.42, 0.11, 0.26]"
      ]
     },
     "execution_count": 12,
     "metadata": {},
     "output_type": "execute_result"
    }
   ],
   "source": [
    "east_poro = poro[4:]     # equivalent to poro[4:10]\n",
    "east_poro"
   ]
  },
  {
   "cell_type": "markdown",
   "id": "36e73f45",
   "metadata": {},
   "source": [
    "If both indices are not specified, then the entire list is returned unsliced."
   ]
  },
  {
   "cell_type": "code",
   "execution_count": 13,
   "id": "55561629",
   "metadata": {},
   "outputs": [
    {
     "data": {
      "text/plain": [
       "[0.49, 0.45, 0.26, 0.12, 0.37, 0.23, 0.15, 0.42, 0.11, 0.26]"
      ]
     },
     "execution_count": 13,
     "metadata": {},
     "output_type": "execute_result"
    }
   ],
   "source": [
    "copy_poro = poro[:]\n",
    "copy_poro"
   ]
  },
  {
   "cell_type": "markdown",
   "id": "d8eaaffd",
   "metadata": {},
   "source": [
    "Indexing an entire list like this is the way to create a copy of the list, with no reference to the original list anymore. That is, changes can be made to the copy without effecting the change in the original list. \n",
    "\n",
    "Copying a  list by mere assignment to a new variable still retains reference to the original list; any change in either one (the copy or the original) is refelected in the other."
   ]
  },
  {
   "cell_type": "code",
   "execution_count": 14,
   "id": "7c9086ca",
   "metadata": {},
   "outputs": [
    {
     "name": "stdout",
     "output_type": "stream",
     "text": [
      "[10, 20, 56]\n",
      "[10, 20, 56]\n",
      "[10, 20, 56]\n",
      "[900, 20, 56]\n",
      "[900, 20, 56]\n",
      "[10, 20, 56]\n"
     ]
    }
   ],
   "source": [
    "original = [10, 20, 56]\n",
    "\n",
    "copy_ref = original\n",
    "copy_noref = original[:]\n",
    "\n",
    "print(original)\n",
    "print(copy_ref)\n",
    "print(copy_noref)\n",
    "\n",
    "# make a change to original\n",
    "original[0] = 900\n",
    "\n",
    "print(original)\n",
    "print(copy_ref)\n",
    "print(copy_noref)"
   ]
  },
  {
   "cell_type": "markdown",
   "id": "763f3a0d",
   "metadata": {},
   "source": [
    "### List Operations, Methods and Functions"
   ]
  },
  {
   "cell_type": "markdown",
   "id": "ac82277a",
   "metadata": {},
   "source": [
    "**Concatenation**: combining multiple lists (side by side) using the + operator."
   ]
  },
  {
   "cell_type": "code",
   "execution_count": 15,
   "id": "5fac82ab",
   "metadata": {},
   "outputs": [
    {
     "name": "stdout",
     "output_type": "stream",
     "text": [
      "[0.49, 0.45, 0.26, 0.12, 0.37, 0.23, 0.15, 0.42, 0.11, 0.26, 0.28, 0.19, 0.2, 0.16]\n"
     ]
    }
   ],
   "source": [
    "more_poro = [0.28, 0.19, 0.20, 0.16]\n",
    "\n",
    "all_poro = poro + more_poro\n",
    "\n",
    "print(all_poro)"
   ]
  },
  {
   "cell_type": "markdown",
   "id": "16a30cad",
   "metadata": {},
   "source": [
    "Replication: replicating all elements of a list a given number of times using the * operator."
   ]
  },
  {
   "cell_type": "code",
   "execution_count": 16,
   "id": "a7c7cea4",
   "metadata": {},
   "outputs": [
    {
     "name": "stdout",
     "output_type": "stream",
     "text": [
      "[120, 114, 150, 170, 120, 114, 150, 170]\n"
     ]
    }
   ],
   "source": [
    "perm_left = [120, 114, 150, 170]\n",
    "\n",
    "all_perm = perm_left*2\n",
    "print(all_perm)"
   ]
  },
  {
   "cell_type": "code",
   "execution_count": 17,
   "id": "8f465eac",
   "metadata": {},
   "outputs": [
    {
     "data": {
      "text/plain": [
       "[240, 228, 300, 340, 240, 228, 300, 340]"
      ]
     },
     "execution_count": 17,
     "metadata": {},
     "output_type": "execute_result"
    }
   ],
   "source": [
    "[x*2 for x in all_perm]"
   ]
  },
  {
   "cell_type": "markdown",
   "id": "d064ad25",
   "metadata": {},
   "source": [
    "**.append method**\n",
    "\n",
    "An extra element (just 1) could be appended to the end of a list using the append method.\n",
    "\n",
    "This append method is commonly used to append a newly generated output to the overall list of outputs in a for loop."
   ]
  },
  {
   "cell_type": "code",
   "execution_count": 18,
   "id": "c9286111",
   "metadata": {},
   "outputs": [
    {
     "name": "stdout",
     "output_type": "stream",
     "text": [
      "[1456, 1738, 1509]\n",
      "[1456, 1738, 1509, 1611]\n",
      "[1456, 1738, 1509, 1611, 2045]\n"
     ]
    }
   ],
   "source": [
    "all_stoiip = [1456, 1738, 1509]    # say these are stoiip values for Blocks 1,2,3\n",
    "\n",
    "print(all_stoiip)\n",
    "\n",
    "stoiip_block4 = 1611   # say stoiip for Block 4 just got obtained\n",
    "\n",
    "all_stoiip.append(stoiip_block4)    # appending stoiip for Block 4 to the nd of the list\n",
    "\n",
    "print(all_stoiip)\n",
    "\n",
    "stoiip_block5 = 2045   # say stoiip for Block 5 just got obtained\n",
    "\n",
    "all_stoiip.append(stoiip_block5)    # appending stoiip for Block 5 to the nd of the list\n",
    "\n",
    "print(all_stoiip)"
   ]
  },
  {
   "cell_type": "markdown",
   "id": "884344c7",
   "metadata": {},
   "source": [
    "**.extend method**\n",
    "\n",
    "An existing list could be extended with multiple elements using the extend method."
   ]
  },
  {
   "cell_type": "code",
   "execution_count": null,
   "id": "54638ee4",
   "metadata": {},
   "outputs": [],
   "source": []
  },
  {
   "cell_type": "code",
   "execution_count": 19,
   "id": "e2535da3",
   "metadata": {},
   "outputs": [
    {
     "name": "stdout",
     "output_type": "stream",
     "text": [
      "[4000, 3890, 3503]\n",
      "[4000, 3890, 3503, 3205, 2956]\n",
      "[3205, 2956]\n"
     ]
    }
   ],
   "source": [
    "pressures = [4000, 3890, 3503]\n",
    "more_pressure = [3205, 2956]\n",
    "print(pressures)\n",
    "pressures.extend(more_pressure)\n",
    "\n",
    "print(pressures)\n",
    "print(more_pressure)"
   ]
  },
  {
   "cell_type": "markdown",
   "id": "7b25f400",
   "metadata": {},
   "source": [
    "Please, note that the _.append_ and _.extend_ methods do not return values; rather, they modify the object list in-place (without copying). \n",
    "\n",
    "Caution: never do poro = poro.append()\n",
    "\n",
    "The argument list remains unmodified.\n",
    "\n",
    "The object list refers to the list on which the method is called while the argument list refers to the list to be appended to (or extended) to the object list.\n"
   ]
  },
  {
   "cell_type": "code",
   "execution_count": 20,
   "id": "2001477d",
   "metadata": {},
   "outputs": [
    {
     "name": "stdout",
     "output_type": "stream",
     "text": [
      "[4000, 3890, 3503]\n",
      "[4000, 3890, 3503, 3205, 2956]\n",
      "[3205, 2956]\n",
      "None\n"
     ]
    }
   ],
   "source": [
    "pressures = [4000, 3890, 3503]\n",
    "more_pressure = [3205, 2956]\n",
    "print(pressures)\n",
    "all_pressures = pressures.extend(more_pressure)\n",
    "\n",
    "print(pressures)\n",
    "print(more_pressure)\n",
    "print(all_pressures)"
   ]
  },
  {
   "cell_type": "code",
   "execution_count": 39,
   "id": "cd391717",
   "metadata": {},
   "outputs": [
    {
     "name": "stdout",
     "output_type": "stream",
     "text": [
      "None\n"
     ]
    }
   ],
   "source": [
    "print(pressures)"
   ]
  },
  {
   "attachments": {},
   "cell_type": "markdown",
   "id": "0b12014e",
   "metadata": {},
   "source": [
    "**.insert method**\n",
    "\n",
    "An element could be inserted into any position in a list (not just the end of the list) using the insert method.\n",
    "\n",
    "Method insert does not return a value, it only modifies the object in-place.\n",
    "\n",
    "The method accepts two arguements: the index of the position to be inserted into, and the value to be inserted."
   ]
  },
  {
   "cell_type": "code",
   "execution_count": 31,
   "id": "4a02c970",
   "metadata": {},
   "outputs": [
    {
     "name": "stdout",
     "output_type": "stream",
     "text": [
      "[0.49, 0.45, 0.26, 0.12, 0.37, 0.32, 0.15, 0.42, 0.11, 0.26]\n",
      "[0.49, 0.45, 0.38, 0.26, 0.12, 0.37, 0.32, 0.15, 0.42, 0.11, 0.26]\n"
     ]
    }
   ],
   "source": [
    "poro = [0.49, 0.45, 0.26, 0.12, 0.37, 0.32, 0.15, 0.42, 0.11, 0.26]\n",
    "print(poro)\n",
    "\n",
    "\n",
    "# inserting 0.38 into the '2th' (3rd) position\n",
    "\n",
    "poro.insert(2, 0.38)\n",
    "print(poro)\n"
   ]
  },
  {
   "attachments": {},
   "cell_type": "markdown",
   "id": "88288227",
   "metadata": {},
   "source": [
    "**.pop method**\n",
    "\n",
    "An element could be removed from any position in a list using the pop method, if the position is known, of course.\n",
    "\n",
    "Method pop returns the removed value, and also modifies the object in-place accordingly.\n",
    "\n",
    "Method pop could be useful if you need to use a value in a list and like to remove the used value to avoid reusing it – sort of sampling without replacement.\n",
    "\n",
    "The method accept only one argument: the index of the item to be removed (not the value of the item) "
   ]
  },
  {
   "cell_type": "code",
   "execution_count": 34,
   "id": "dd33c64e",
   "metadata": {},
   "outputs": [
    {
     "name": "stdout",
     "output_type": "stream",
     "text": [
      "[120, 150, 400, 387]\n",
      "[120, 400, 387]\n",
      "150\n"
     ]
    }
   ],
   "source": [
    "perm = [120, 150, 400, 387]\n",
    "print(perm)\n",
    "\n",
    "# removing the 1th (2nd) item\n",
    "removed_perm = perm.pop(1)\n",
    "\n",
    "print(perm)\n",
    "print(removed_perm)"
   ]
  },
  {
   "cell_type": "markdown",
   "id": "d46b7275",
   "metadata": {},
   "source": [
    "**.remove method**\n",
    "\n",
    "If the position of the element to be removed is not known, but the value is known; then the remove method can be used to remove it.\n",
    "\n",
    "However, Method remove only removes the first occurrence of the specified value in the list; subsequent occurrences of that specified value are not removed.\n",
    "\n",
    "Method remove does not return a value, it only modifies the object in-place.\n"
   ]
  },
  {
   "cell_type": "code",
   "execution_count": 36,
   "id": "a5d5cd22",
   "metadata": {},
   "outputs": [
    {
     "name": "stdout",
     "output_type": "stream",
     "text": [
      "[120, 150, 400, 387, 600, 150, 300]\n",
      "[120, 400, 387, 600, 150, 300]\n",
      "None\n"
     ]
    }
   ],
   "source": [
    "perm = [120, 150, 400, 387, 600, 150, 300]\n",
    "print(perm)\n",
    "\n",
    "# removing the first occurence of 150\n",
    "removed_perm = perm.remove(150)\n",
    "\n",
    "print(perm)\n",
    "print(removed_perm)"
   ]
  },
  {
   "cell_type": "markdown",
   "id": "a49612b2",
   "metadata": {},
   "source": [
    "**del operator**\n",
    "\n",
    "Both Methods pop and remove accept only one argument; so they can only delete one  element of the list at a time.\n",
    "\n",
    "To delete multiple elements, use the del operator.\n",
    "\n",
    "The del operator accepts the indexed list (the list and the range of indices to be deleted as its argument.\n"
   ]
  },
  {
   "cell_type": "code",
   "execution_count": 38,
   "id": "6d5a7ac1",
   "metadata": {},
   "outputs": [
    {
     "name": "stdout",
     "output_type": "stream",
     "text": [
      "[0.49, 0.45, 0.26, 0.12, 0.37, 0.32, 0.15, 0.42, 0.11, 0.26]\n",
      "[0.49, 0.45, 0.26, 0.15, 0.42, 0.11, 0.26]\n"
     ]
    }
   ],
   "source": [
    "poro = [0.49, 0.45, 0.26, 0.12, 0.37, 0.32, 0.15, 0.42, 0.11, 0.26]\n",
    "print(poro)\n",
    "\n",
    "del(poro[3:6])\n",
    "\n",
    "print(poro)"
   ]
  },
  {
   "attachments": {},
   "cell_type": "markdown",
   "id": "ac777288",
   "metadata": {},
   "source": [
    "**.sort method**\n",
    "\n",
    "Elements of a list can be sorted either in ascending order of descending order using Method sort.\n",
    "\n",
    "By default, the method sorts in ascending order; so, users need to pass no argument. However, to sort in descending order, users need to set the keyword argument 'reverse' to True.\n",
    "\n",
    "The method returns no argument, it modifies in-place\n"
   ]
  },
  {
   "cell_type": "code",
   "execution_count": 40,
   "id": "b7eb6da5",
   "metadata": {},
   "outputs": [
    {
     "name": "stdout",
     "output_type": "stream",
     "text": [
      "[2956, 3205, 3503, 3890, 4000]\n",
      "[4000, 3890, 3503, 3205, 2956]\n"
     ]
    }
   ],
   "source": [
    "pressures = [4000, 3890, 3503, 3205, 2956]\n",
    "\n",
    "pressures.sort()\n",
    "\n",
    "print(pressures)\n",
    "\n",
    "pressures.sort(reverse = True)\n",
    "\n",
    "print(pressures)"
   ]
  },
  {
   "attachments": {},
   "cell_type": "markdown",
   "id": "a77adcef",
   "metadata": {},
   "source": [
    "**in operator**\n",
    "\n",
    "That a value is present (or not present) in a list could be determined using the in operator.\n",
    "\n",
    "The in operator returns True if the specified value is present in the list, and False, otherwise.\n",
    "\n",
    "Such in operations might be used in constructing the conditions for if and while statements."
   ]
  },
  {
   "cell_type": "code",
   "execution_count": 43,
   "id": "5c776606",
   "metadata": {},
   "outputs": [
    {
     "name": "stdout",
     "output_type": "stream",
     "text": [
      "True\n",
      "False\n"
     ]
    }
   ],
   "source": [
    "poro = [0.49, 0.45, 0.26, 0.12, 0.37, 0.32, 0.15, 0.42, 0.11, 0.26]\n",
    "\n",
    "# check if 0.12 is in poro\n",
    "print(0.12 in poro)\n",
    "\n",
    "# check if 1000 is in poro\n",
    "print(1000 in poro)"
   ]
  },
  {
   "attachments": {},
   "cell_type": "markdown",
   "id": "fac1d3a3",
   "metadata": {},
   "source": [
    "**.index method**\n",
    "\n",
    "Sometimes, the presence of a value in a list is already ascertained, but there is a need to determine the exact location (index) of the value in the list. Method index could be used for such purpose.\n",
    "\n",
    "If the specified value occurs more than once, only the index of the first occurrence is returned.\n",
    "\n",
    "Assignment: how may the indices of all occurrences be obtained?\n",
    "\n",
    "If the specified value is not present, an error is thrown. So, you may want to preceed the call to .index with a call to the 'in' operator\n",
    "\n",
    "Method index may be used to implement a find and replace functionality.\n"
   ]
  },
  {
   "cell_type": "code",
   "execution_count": 51,
   "id": "11a594fb",
   "metadata": {},
   "outputs": [
    {
     "name": "stdout",
     "output_type": "stream",
     "text": [
      "4\n"
     ]
    }
   ],
   "source": [
    "poro = [0.49, 0.45, 0.26, 0.12, 0.37, 0.32, 0.15, 0.42, 0.11, 0.26]\n",
    "\n",
    "print(poro.index(0.37))"
   ]
  },
  {
   "cell_type": "markdown",
   "id": "a4f2acd1",
   "metadata": {},
   "source": [
    "You can use the following functions to get some summary statistics of the elements of a list, without manually looping through the list.\n",
    "\n",
    "len – returns number of elements\n",
    "\n",
    "sum – returns sum of elements.\n",
    "\n",
    "min – returns the smallest element.\n",
    "\n",
    "max – returns the largest element\n"
   ]
  },
  {
   "cell_type": "code",
   "execution_count": 54,
   "id": "0e1ef6bf",
   "metadata": {},
   "outputs": [
    {
     "name": "stdout",
     "output_type": "stream",
     "text": [
      "10\n",
      "2.9499999999999993\n",
      "0.11\n",
      "0.49\n"
     ]
    }
   ],
   "source": [
    "poro = [0.49, 0.45, 0.26, 0.12, 0.37, 0.32, 0.15, 0.42, 0.11, 0.26]\n",
    "\n",
    "print(len(poro))\n",
    "print(sum(poro))\n",
    "print(min(poro))\n",
    "print(max(poro))\n",
    "\n",
    "# getting average poro:\n"
   ]
  },
  {
   "cell_type": "markdown",
   "id": "796c6f9a",
   "metadata": {},
   "source": [
    "#### Looping through Lists"
   ]
  },
  {
   "cell_type": "code",
   "execution_count": 57,
   "id": "0c691fbb",
   "metadata": {},
   "outputs": [
    {
     "name": "stdout",
     "output_type": "stream",
     "text": [
      "[49.0, 45.0, 26.0, 12.0, 37.0, 32.0, 15.0, 42.0, 11.0, 26.0]\n"
     ]
    }
   ],
   "source": [
    "poro_list = [0.49, 0.45, 0.26, 0.12, 0.37, 0.32, 0.15, 0.42, 0.11, 0.26]\n",
    "BV = 100\n",
    "\n",
    "# generating a list of pore volumes (porosity*BV)\n",
    "\n",
    "    # pre-create the PV list before looping\n",
    "pv_list = []\n",
    "for poro_val in poro:\n",
    "    pv_val = poro_val*BV\n",
    "    pv_list.append(pv_val)\n",
    "    \n",
    "print(pv_list)"
   ]
  },
  {
   "cell_type": "code",
   "execution_count": 58,
   "id": "dcb8319e",
   "metadata": {},
   "outputs": [
    {
     "name": "stdout",
     "output_type": "stream",
     "text": [
      "[13.72, 11.25, 4.42, 3.96, 5.92, 7.36, 4.35, 9.24, 3.52, 7.0200000000000005]\n"
     ]
    }
   ],
   "source": [
    "poro_list = [0.49, 0.45, 0.26, 0.12, 0.37, 0.32, 0.15, 0.42, 0.11, 0.26]\n",
    "swi_list = [0.28, 0.25, 0.17, 0.33, 0.16, 0.23, 0.29, 0.22, 0.32, 0.27]\n",
    "BV = 100\n",
    "\n",
    "# generating a list of hydrocarbon pore-volumes (BV*porosity*(1-swi))\n",
    "\n",
    "    # pre-create the hcpv list before looping\n",
    "hcpv_list = []\n",
    "for i in range(len(poro_list)):\n",
    "    hcpv_val = BV*poro_list[i]*swi_list[i]\n",
    "    hcpv_list.append(hcpv_val)\n",
    "    \n",
    "print(hcpv_list)"
   ]
  },
  {
   "cell_type": "code",
   "execution_count": null,
   "id": "8911ae30",
   "metadata": {},
   "outputs": [],
   "source": []
  }
 ],
 "metadata": {
  "kernelspec": {
   "display_name": "Python 3 (ipykernel)",
   "language": "python",
   "name": "python3"
  },
  "language_info": {
   "codemirror_mode": {
    "name": "ipython",
    "version": 3
   },
   "file_extension": ".py",
   "mimetype": "text/x-python",
   "name": "python",
   "nbconvert_exporter": "python",
   "pygments_lexer": "ipython3",
   "version": "3.9.12"
  }
 },
 "nbformat": 4,
 "nbformat_minor": 5
}
